{
  "nbformat": 4,
  "nbformat_minor": 0,
  "metadata": {
    "colab": {
      "provenance": [],
      "authorship_tag": "ABX9TyMbarAb0VpEo3+pPaySlS/E",
      "include_colab_link": true
    },
    "kernelspec": {
      "name": "python3",
      "display_name": "Python 3"
    },
    "language_info": {
      "name": "python"
    }
  },
  "cells": [
    {
      "cell_type": "markdown",
      "metadata": {
        "id": "view-in-github",
        "colab_type": "text"
      },
      "source": [
        "<a href=\"https://colab.research.google.com/github/itscakee/Cash-Loan/blob/main/Home_Credit%20Rakamin%20Virtual%20Intership.ipynb\" target=\"_parent\"><img src=\"https://colab.research.google.com/assets/colab-badge.svg\" alt=\"Open In Colab\"/></a>"
      ]
    },
    {
      "cell_type": "code",
      "execution_count": 75,
      "metadata": {
        "colab": {
          "base_uri": "https://localhost:8080/",
          "height": 299
        },
        "id": "MwHB6SH0CPWK",
        "outputId": "eaa6ecde-b6ed-4705-cab5-2300c5145dbc"
      },
      "outputs": [
        {
          "output_type": "execute_result",
          "data": {
            "text/plain": [
              "   SK_ID_CURR NAME_CONTRACT_TYPE CODE_GENDER FLAG_OWN_CAR FLAG_OWN_REALTY  \\\n",
              "0      100001         Cash loans           F            N               Y   \n",
              "1      100005         Cash loans           M            N               Y   \n",
              "2      100013         Cash loans           M            Y               Y   \n",
              "3      100028         Cash loans           F            N               Y   \n",
              "4      100038         Cash loans           M            Y               N   \n",
              "\n",
              "   CNT_CHILDREN  AMT_INCOME_TOTAL  AMT_CREDIT  AMT_ANNUITY  AMT_GOODS_PRICE  \\\n",
              "0             0          135000.0    568800.0      20560.5         450000.0   \n",
              "1             0           99000.0    222768.0      17370.0         180000.0   \n",
              "2             0          202500.0    663264.0      69777.0         630000.0   \n",
              "3             2          315000.0   1575000.0      49018.5        1575000.0   \n",
              "4             1          180000.0    625500.0      32067.0         625500.0   \n",
              "\n",
              "   ... FLAG_DOCUMENT_18 FLAG_DOCUMENT_19 FLAG_DOCUMENT_20 FLAG_DOCUMENT_21  \\\n",
              "0  ...                0                0                0                0   \n",
              "1  ...                0                0                0                0   \n",
              "2  ...                0                0                0                0   \n",
              "3  ...                0                0                0                0   \n",
              "4  ...                0                0                0                0   \n",
              "\n",
              "  AMT_REQ_CREDIT_BUREAU_HOUR  AMT_REQ_CREDIT_BUREAU_DAY  \\\n",
              "0                        0.0                        0.0   \n",
              "1                        0.0                        0.0   \n",
              "2                        0.0                        0.0   \n",
              "3                        0.0                        0.0   \n",
              "4                        NaN                        NaN   \n",
              "\n",
              "   AMT_REQ_CREDIT_BUREAU_WEEK  AMT_REQ_CREDIT_BUREAU_MON  \\\n",
              "0                         0.0                        0.0   \n",
              "1                         0.0                        0.0   \n",
              "2                         0.0                        0.0   \n",
              "3                         0.0                        0.0   \n",
              "4                         NaN                        NaN   \n",
              "\n",
              "   AMT_REQ_CREDIT_BUREAU_QRT  AMT_REQ_CREDIT_BUREAU_YEAR  \n",
              "0                        0.0                         0.0  \n",
              "1                        0.0                         3.0  \n",
              "2                        1.0                         4.0  \n",
              "3                        0.0                         3.0  \n",
              "4                        NaN                         NaN  \n",
              "\n",
              "[5 rows x 121 columns]"
            ],
            "text/html": [
              "\n",
              "  <div id=\"df-eaa5fcf7-57b1-4bd7-9ca1-2d7d48a782d2\">\n",
              "    <div class=\"colab-df-container\">\n",
              "      <div>\n",
              "<style scoped>\n",
              "    .dataframe tbody tr th:only-of-type {\n",
              "        vertical-align: middle;\n",
              "    }\n",
              "\n",
              "    .dataframe tbody tr th {\n",
              "        vertical-align: top;\n",
              "    }\n",
              "\n",
              "    .dataframe thead th {\n",
              "        text-align: right;\n",
              "    }\n",
              "</style>\n",
              "<table border=\"1\" class=\"dataframe\">\n",
              "  <thead>\n",
              "    <tr style=\"text-align: right;\">\n",
              "      <th></th>\n",
              "      <th>SK_ID_CURR</th>\n",
              "      <th>NAME_CONTRACT_TYPE</th>\n",
              "      <th>CODE_GENDER</th>\n",
              "      <th>FLAG_OWN_CAR</th>\n",
              "      <th>FLAG_OWN_REALTY</th>\n",
              "      <th>CNT_CHILDREN</th>\n",
              "      <th>AMT_INCOME_TOTAL</th>\n",
              "      <th>AMT_CREDIT</th>\n",
              "      <th>AMT_ANNUITY</th>\n",
              "      <th>AMT_GOODS_PRICE</th>\n",
              "      <th>...</th>\n",
              "      <th>FLAG_DOCUMENT_18</th>\n",
              "      <th>FLAG_DOCUMENT_19</th>\n",
              "      <th>FLAG_DOCUMENT_20</th>\n",
              "      <th>FLAG_DOCUMENT_21</th>\n",
              "      <th>AMT_REQ_CREDIT_BUREAU_HOUR</th>\n",
              "      <th>AMT_REQ_CREDIT_BUREAU_DAY</th>\n",
              "      <th>AMT_REQ_CREDIT_BUREAU_WEEK</th>\n",
              "      <th>AMT_REQ_CREDIT_BUREAU_MON</th>\n",
              "      <th>AMT_REQ_CREDIT_BUREAU_QRT</th>\n",
              "      <th>AMT_REQ_CREDIT_BUREAU_YEAR</th>\n",
              "    </tr>\n",
              "  </thead>\n",
              "  <tbody>\n",
              "    <tr>\n",
              "      <th>0</th>\n",
              "      <td>100001</td>\n",
              "      <td>Cash loans</td>\n",
              "      <td>F</td>\n",
              "      <td>N</td>\n",
              "      <td>Y</td>\n",
              "      <td>0</td>\n",
              "      <td>135000.0</td>\n",
              "      <td>568800.0</td>\n",
              "      <td>20560.5</td>\n",
              "      <td>450000.0</td>\n",
              "      <td>...</td>\n",
              "      <td>0</td>\n",
              "      <td>0</td>\n",
              "      <td>0</td>\n",
              "      <td>0</td>\n",
              "      <td>0.0</td>\n",
              "      <td>0.0</td>\n",
              "      <td>0.0</td>\n",
              "      <td>0.0</td>\n",
              "      <td>0.0</td>\n",
              "      <td>0.0</td>\n",
              "    </tr>\n",
              "    <tr>\n",
              "      <th>1</th>\n",
              "      <td>100005</td>\n",
              "      <td>Cash loans</td>\n",
              "      <td>M</td>\n",
              "      <td>N</td>\n",
              "      <td>Y</td>\n",
              "      <td>0</td>\n",
              "      <td>99000.0</td>\n",
              "      <td>222768.0</td>\n",
              "      <td>17370.0</td>\n",
              "      <td>180000.0</td>\n",
              "      <td>...</td>\n",
              "      <td>0</td>\n",
              "      <td>0</td>\n",
              "      <td>0</td>\n",
              "      <td>0</td>\n",
              "      <td>0.0</td>\n",
              "      <td>0.0</td>\n",
              "      <td>0.0</td>\n",
              "      <td>0.0</td>\n",
              "      <td>0.0</td>\n",
              "      <td>3.0</td>\n",
              "    </tr>\n",
              "    <tr>\n",
              "      <th>2</th>\n",
              "      <td>100013</td>\n",
              "      <td>Cash loans</td>\n",
              "      <td>M</td>\n",
              "      <td>Y</td>\n",
              "      <td>Y</td>\n",
              "      <td>0</td>\n",
              "      <td>202500.0</td>\n",
              "      <td>663264.0</td>\n",
              "      <td>69777.0</td>\n",
              "      <td>630000.0</td>\n",
              "      <td>...</td>\n",
              "      <td>0</td>\n",
              "      <td>0</td>\n",
              "      <td>0</td>\n",
              "      <td>0</td>\n",
              "      <td>0.0</td>\n",
              "      <td>0.0</td>\n",
              "      <td>0.0</td>\n",
              "      <td>0.0</td>\n",
              "      <td>1.0</td>\n",
              "      <td>4.0</td>\n",
              "    </tr>\n",
              "    <tr>\n",
              "      <th>3</th>\n",
              "      <td>100028</td>\n",
              "      <td>Cash loans</td>\n",
              "      <td>F</td>\n",
              "      <td>N</td>\n",
              "      <td>Y</td>\n",
              "      <td>2</td>\n",
              "      <td>315000.0</td>\n",
              "      <td>1575000.0</td>\n",
              "      <td>49018.5</td>\n",
              "      <td>1575000.0</td>\n",
              "      <td>...</td>\n",
              "      <td>0</td>\n",
              "      <td>0</td>\n",
              "      <td>0</td>\n",
              "      <td>0</td>\n",
              "      <td>0.0</td>\n",
              "      <td>0.0</td>\n",
              "      <td>0.0</td>\n",
              "      <td>0.0</td>\n",
              "      <td>0.0</td>\n",
              "      <td>3.0</td>\n",
              "    </tr>\n",
              "    <tr>\n",
              "      <th>4</th>\n",
              "      <td>100038</td>\n",
              "      <td>Cash loans</td>\n",
              "      <td>M</td>\n",
              "      <td>Y</td>\n",
              "      <td>N</td>\n",
              "      <td>1</td>\n",
              "      <td>180000.0</td>\n",
              "      <td>625500.0</td>\n",
              "      <td>32067.0</td>\n",
              "      <td>625500.0</td>\n",
              "      <td>...</td>\n",
              "      <td>0</td>\n",
              "      <td>0</td>\n",
              "      <td>0</td>\n",
              "      <td>0</td>\n",
              "      <td>NaN</td>\n",
              "      <td>NaN</td>\n",
              "      <td>NaN</td>\n",
              "      <td>NaN</td>\n",
              "      <td>NaN</td>\n",
              "      <td>NaN</td>\n",
              "    </tr>\n",
              "  </tbody>\n",
              "</table>\n",
              "<p>5 rows × 121 columns</p>\n",
              "</div>\n",
              "      <button class=\"colab-df-convert\" onclick=\"convertToInteractive('df-eaa5fcf7-57b1-4bd7-9ca1-2d7d48a782d2')\"\n",
              "              title=\"Convert this dataframe to an interactive table.\"\n",
              "              style=\"display:none;\">\n",
              "        \n",
              "  <svg xmlns=\"http://www.w3.org/2000/svg\" height=\"24px\"viewBox=\"0 0 24 24\"\n",
              "       width=\"24px\">\n",
              "    <path d=\"M0 0h24v24H0V0z\" fill=\"none\"/>\n",
              "    <path d=\"M18.56 5.44l.94 2.06.94-2.06 2.06-.94-2.06-.94-.94-2.06-.94 2.06-2.06.94zm-11 1L8.5 8.5l.94-2.06 2.06-.94-2.06-.94L8.5 2.5l-.94 2.06-2.06.94zm10 10l.94 2.06.94-2.06 2.06-.94-2.06-.94-.94-2.06-.94 2.06-2.06.94z\"/><path d=\"M17.41 7.96l-1.37-1.37c-.4-.4-.92-.59-1.43-.59-.52 0-1.04.2-1.43.59L10.3 9.45l-7.72 7.72c-.78.78-.78 2.05 0 2.83L4 21.41c.39.39.9.59 1.41.59.51 0 1.02-.2 1.41-.59l7.78-7.78 2.81-2.81c.8-.78.8-2.07 0-2.86zM5.41 20L4 18.59l7.72-7.72 1.47 1.35L5.41 20z\"/>\n",
              "  </svg>\n",
              "      </button>\n",
              "      \n",
              "  <style>\n",
              "    .colab-df-container {\n",
              "      display:flex;\n",
              "      flex-wrap:wrap;\n",
              "      gap: 12px;\n",
              "    }\n",
              "\n",
              "    .colab-df-convert {\n",
              "      background-color: #E8F0FE;\n",
              "      border: none;\n",
              "      border-radius: 50%;\n",
              "      cursor: pointer;\n",
              "      display: none;\n",
              "      fill: #1967D2;\n",
              "      height: 32px;\n",
              "      padding: 0 0 0 0;\n",
              "      width: 32px;\n",
              "    }\n",
              "\n",
              "    .colab-df-convert:hover {\n",
              "      background-color: #E2EBFA;\n",
              "      box-shadow: 0px 1px 2px rgba(60, 64, 67, 0.3), 0px 1px 3px 1px rgba(60, 64, 67, 0.15);\n",
              "      fill: #174EA6;\n",
              "    }\n",
              "\n",
              "    [theme=dark] .colab-df-convert {\n",
              "      background-color: #3B4455;\n",
              "      fill: #D2E3FC;\n",
              "    }\n",
              "\n",
              "    [theme=dark] .colab-df-convert:hover {\n",
              "      background-color: #434B5C;\n",
              "      box-shadow: 0px 1px 3px 1px rgba(0, 0, 0, 0.15);\n",
              "      filter: drop-shadow(0px 1px 2px rgba(0, 0, 0, 0.3));\n",
              "      fill: #FFFFFF;\n",
              "    }\n",
              "  </style>\n",
              "\n",
              "      <script>\n",
              "        const buttonEl =\n",
              "          document.querySelector('#df-eaa5fcf7-57b1-4bd7-9ca1-2d7d48a782d2 button.colab-df-convert');\n",
              "        buttonEl.style.display =\n",
              "          google.colab.kernel.accessAllowed ? 'block' : 'none';\n",
              "\n",
              "        async function convertToInteractive(key) {\n",
              "          const element = document.querySelector('#df-eaa5fcf7-57b1-4bd7-9ca1-2d7d48a782d2');\n",
              "          const dataTable =\n",
              "            await google.colab.kernel.invokeFunction('convertToInteractive',\n",
              "                                                     [key], {});\n",
              "          if (!dataTable) return;\n",
              "\n",
              "          const docLinkHtml = 'Like what you see? Visit the ' +\n",
              "            '<a target=\"_blank\" href=https://colab.research.google.com/notebooks/data_table.ipynb>data table notebook</a>'\n",
              "            + ' to learn more about interactive tables.';\n",
              "          element.innerHTML = '';\n",
              "          dataTable['output_type'] = 'display_data';\n",
              "          await google.colab.output.renderOutput(dataTable, element);\n",
              "          const docLink = document.createElement('div');\n",
              "          docLink.innerHTML = docLinkHtml;\n",
              "          element.appendChild(docLink);\n",
              "        }\n",
              "      </script>\n",
              "    </div>\n",
              "  </div>\n",
              "  "
            ]
          },
          "metadata": {},
          "execution_count": 75
        }
      ],
      "source": [
        "import pandas as pd \n",
        "import numpy as np \n",
        "df = pd.read_csv('application_test.csv')\n",
        "df.head()"
      ]
    },
    {
      "cell_type": "code",
      "source": [
        "df['AMT_INCOME_TOTAL'].describe()"
      ],
      "metadata": {
        "id": "fmqAexBEsU9K",
        "colab": {
          "base_uri": "https://localhost:8080/"
        },
        "outputId": "74ab4e0e-7917-4242-ad82-e145ab476459"
      },
      "execution_count": 50,
      "outputs": [
        {
          "output_type": "execute_result",
          "data": {
            "text/plain": [
              "count    4.874400e+04\n",
              "mean     1.784318e+05\n",
              "std      1.015226e+05\n",
              "min      2.694150e+04\n",
              "25%      1.125000e+05\n",
              "50%      1.575000e+05\n",
              "75%      2.250000e+05\n",
              "max      4.410000e+06\n",
              "Name: AMT_INCOME_TOTAL, dtype: float64"
            ]
          },
          "metadata": {},
          "execution_count": 50
        }
      ]
    },
    {
      "cell_type": "code",
      "source": [
        "df['AMT_INCOME_TOTAL'].unique()\n"
      ],
      "metadata": {
        "colab": {
          "base_uri": "https://localhost:8080/"
        },
        "id": "6jpUqObzsZ2l",
        "outputId": "4f50b3f1-c41c-4872-c050-427c4818a36c"
      },
      "execution_count": 51,
      "outputs": [
        {
          "output_type": "execute_result",
          "data": {
            "text/plain": [
              "array([ 135000.  ,   99000.  ,  202500.  ,  315000.  ,  180000.  ,\n",
              "        270000.  ,  166500.  ,  162000.  ,   67500.  ,  247500.  ,\n",
              "         90000.  ,  225000.  ,  175500.  ,  157500.  ,  337500.  ,\n",
              "         76500.  ,  112500.  ,  360000.  ,  102150.  ,  171000.  ,\n",
              "        121500.  ,  405000.  ,  211500.  ,  229500.  ,  144000.  ,\n",
              "         40500.  ,   92250.  ,  279000.  ,   87750.  ,  126000.  ,\n",
              "         45000.  ,  252000.  ,  495000.  ,  189000.  ,  333000.  ,\n",
              "         81000.  ,  193500.  ,   63000.  ,   94500.  ,  292500.  ,\n",
              "        198000.  ,  216000.  ,  540000.  ,  450000.  ,  103500.  ,\n",
              "        206100.  ,  153747.  ,  117000.  ,   58500.  ,  234000.  ,\n",
              "        675000.  ,  261000.  ,   72000.  ,  382500.  ,  148500.  ,\n",
              "        301500.  ,   54000.  ,   56700.  ,  108000.  ,  288000.  ,\n",
              "         85500.  ,  153000.  ,  387000.  ,   57150.  ,  207000.  ,\n",
              "        254700.  ,   36000.  ,   47250.  ,  187398.  ,  130500.  ,\n",
              "        306000.  ,  139500.  ,   74250.  ,  607500.  ,  265500.  ,\n",
              "        256500.  , 1350000.  ,  220500.  ,  432000.  ,  101250.  ,\n",
              "        274500.  ,  378000.  ,  324000.  ,   78750.  ,  297000.  ,\n",
              "         83250.  ,  217350.  ,   51750.  ,   97920.  ,  441000.  ,\n",
              "        161550.  ,  168750.  ,  136170.  ,  135931.5 ,   32850.  ,\n",
              "        110250.  ,  567000.  ,  218250.  ,   51300.  ,  191250.  ,\n",
              "        472500.  ,  342000.  ,   38754.  ,  141750.  ,  400500.  ,\n",
              "        205200.  ,   46800.  ,   49500.  ,   48150.  ,  283482.  ,\n",
              "        283500.  ,   66600.  ,  238500.  ,  585000.  ,  742500.  ,\n",
              "         93150.  ,   82350.  ,  184500.  ,  328500.  ,  235327.5 ,\n",
              "         75150.  ,   70200.  ,  562500.  ,  900000.  ,  351000.  ,\n",
              "         95661.  , 1125000.  ,  102784.5 ,   78538.5 ,   72900.  ,\n",
              "        243000.  ,   80100.  ,  720000.  ,  427500.  ,   44100.  ,\n",
              "         60750.  ,  195750.  ,  945000.  ,   64350.  ,   85950.  ,\n",
              "        139320.  ,  114750.  ,  423000.  ,  211950.  ,   71100.  ,\n",
              "       2250000.  , 4410000.  ,   29250.  ,  666000.  ,  810000.  ,\n",
              "        346500.  ,  990000.  ,  123750.  ,  232200.  ,   56250.  ,\n",
              "        226867.5 ,  146250.  ,  172957.5 ,   27000.  ,  244651.5 ,\n",
              "         34290.  ,  119250.  ,  179100.  ,  137583.  ,   31500.  ,\n",
              "        144450.  ,   74799.  ,  177750.  ,  877500.  ,  630000.  ,\n",
              "        214650.  ,   62437.5 ,   95368.5 ,  344250.  ,   40950.  ,\n",
              "         95850.  ,  652500.  ,  206176.5 ,   68400.  ,  118350.  ,\n",
              "         55350.  ,  122926.5 ,  211810.5 ,  173250.  ,  106560.  ,\n",
              "        117450.  ,  105750.  ,  391500.  ,   96750.  ,  373554.  ,\n",
              "         69750.  ,   89100.  ,   54396.  ,  369000.  ,  172498.5 ,\n",
              "        257850.  ,   74304.  ,   90832.5 ,  135603.  ,  152100.  ,\n",
              "         81900.  ,   62100.  ,   72675.  ,   61200.  ,  242325.  ,\n",
              "        319500.  ,   99900.  , 2340000.  , 1575000.  ,  340200.  ,\n",
              "         99805.5 ,  164250.  ,  414000.  ,  206550.  ,  213750.  ,\n",
              "        182250.  ,  108900.  ,  371250.  ,  128250.  ,  299250.  ,\n",
              "         38250.  ,  531000.  ,  517500.  ,  116365.5 ,  355500.  ,\n",
              "         41400.  ,  150750.  ,   65250.  ,  197100.  ,  393750.  ,\n",
              "        310500.  ,  204750.  ,  787500.  ,  114322.5 ,   28575.  ,\n",
              "        104139.  ,  250456.5 ,  203530.5 ,  110700.  , 1800000.  ,\n",
              "        159750.  ,  765000.  ,  116100.  ,  137700.  ,   52650.  ,\n",
              "         72220.5 ,  396000.  ,  162900.  ,   48600.  ,   39600.  ,\n",
              "        165150.  ,   40347.  ,  166050.  ,  576000.  ,   33300.  ,\n",
              "        103230.  ,  433800.  ,   41850.  ,   66127.5 ,   96300.  ,\n",
              "        167400.  ,  187650.  ,   50850.  ,  616500.  ,  124200.  ,\n",
              "        308623.5 ,   86197.5 ,  132750.  ,  445500.  ,   77850.  ,\n",
              "        107550.  ,  223650.  ,  216900.  ,   73350.  ,   30150.  ,\n",
              "        153729.  ,   37800.  ,  323788.5 ,   64800.  ,   36900.  ,\n",
              "        648000.  ,  101700.  ,   44550.  ,  109800.  ,   92700.  ,\n",
              "        286650.  ,  185400.  ,   58117.5 ,  111150.  ,   45729.  ,\n",
              "        107100.  ,  113998.5 ,  160884.  ,  218700.  ,  711000.  ,\n",
              "        105300.  ,  223497.  ,   98100.  ,  175680.  , 1710000.  ,\n",
              "        133821.  ,   32400.  ,   65700.  ,  117900.  ,  373500.  ,\n",
              "        174600.  ,  189373.5 ,  526500.  ,   68998.5 ,   81702.  ,\n",
              "         69300.  ,  205650.  ,  976500.  ,   84150.  ,  194850.  ,\n",
              "        108085.5 ,  272857.5 ,  226350.  ,  276300.  ,  123975.  ,\n",
              "         84600.  ,  127800.  ,  265050.  ,   38700.  ,   62550.  ,\n",
              "        200250.  ,  146475.  ,   91935.  ,   84717.  ,  114219.  ,\n",
              "         52200.  ,  139950.  ,   45900.  ,  144094.59,  250200.  ,\n",
              "        177300.  ,  198292.5 ,  180234.  ,  280800.  ,  187200.  ,\n",
              "         28800.  ,  222750.  ,   33750.  ,  326565.  ,  287100.  ,\n",
              "         33768.  ,  179001.  ,  151713.  ,  291600.  ,   50400.  ,\n",
              "        129096.  ,   70650.  ,  209250.  ,   66375.  ,  454500.  ,\n",
              "        212710.5 ,  140598.  ,  241123.5 ,  258300.  ,  855000.  ,\n",
              "         42750.  ,  486000.  ,  175050.  ,  145071.  ,  130464.  ,\n",
              "        158400.  ,  113850.  ,  364500.  ,  151650.  ,   65682.  ,\n",
              "        146389.5 ,  152550.  ,  130252.5 ,  188100.  ,   26941.5 ,\n",
              "         95562.  ,   60525.  ,  115699.5 ,  355023.  ,  133200.  ,\n",
              "         75964.5 ,  128700.  ,  120600.  ,   87358.5 ,  129825.  ,\n",
              "        186750.  ,   93672.  ,   85050.  ,  326700.  ,   39465.  ,\n",
              "        112936.5 ,   83587.5 ,   99886.5 ,   83700.  , 1912500.  ,\n",
              "        285750.  ,  210600.  ,  106425.  ,  183600.  ,  159138.  ,\n",
              "         50773.5 ,   68850.  ,  174150.  ,  280350.  ,   46350.  ,\n",
              "        142650.  ,   63900.  ,   97875.  ,   28350.  ,  137250.  ,\n",
              "        643500.  ,   36810.  ,  151200.  ,  208350.  ,   79200.  ,\n",
              "        151857.  ,  144900.  ,   95422.5 ,   99225.  ,  134226.  ,\n",
              "        307800.  ,  127804.5 ,  114300.  ,  147775.5 ,  124996.5 ,\n",
              "        661500.  ,  168165.  ,   88650.  ,   91800.  ,  179550.  ,\n",
              "        146956.5 ,  537462.  ,  227250.  ,  210375.  ,   72958.5 ,\n",
              "        116550.  ,  195300.  ,   41202.  ,  201600.  ,   82800.  ,\n",
              "        100800.  ,  186300.  ,  330750.  ,   77400.  ,  429750.  ,\n",
              "         75469.5 ,  180900.  ,  102600.  ,  140400.  ,   31990.5 ,\n",
              "        315211.5 ,  173700.  ,   73800.  ,  395100.  ,   35100.  ,\n",
              "        106650.  ,  504000.  ,   88200.  ,  200965.5 ,  250821.  ,\n",
              "        129375.  ,   78322.5 ,  203850.  ,   76950.  ,  146592.  ,\n",
              "        477000.  ,  323100.  ,  139050.  ,  295200.  ,  236250.  ,\n",
              "        144027.  ,  160555.5 ,  140971.5 ,  232650.  ,  161100.  ,\n",
              "         53248.5 ,   97650.  ,  114813.  ,  444150.  ,  927000.  ,\n",
              "        197113.5 ,  164700.  ,   79650.  ,  188550.  ,   83106.  ,\n",
              "         54900.  ,  101106.  ,  144342.  ,  558000.  ,   36400.5 ,\n",
              "        115650.  ,  189450.  , 1035000.  ,   94770.  ,   63103.5 ,\n",
              "         54450.  ,   55854.  ,  432900.  ,  221818.5 , 2700000.  ,\n",
              "        115200.  ,  170802.  ,  147600.  ,  190350.  ,  185337.  ,\n",
              "        182700.  ,   78102.  ,  155250.  ,  140139.  ,  336375.  ,\n",
              "        130050.  ,   72450.  ,   66060.  ,   40860.  ,   30600.  ,\n",
              "         55341.  ,  268200.  ,  131400.  ,  135045.  ,  203400.  ,\n",
              "        330300.  ,   82228.5 ,  125892.  ,  364909.5 ,  107356.5 ,\n",
              "       1080000.  ,  418050.  ,   78300.  ,  393300.  ,  148392.  ,\n",
              "        137713.5 ,   50121.  ,  123300.  ,  164178.  ,  264150.  ,\n",
              "        194400.  ,   90868.5 ,  294750.  ,  143100.  ,   56511.  ,\n",
              "        164587.5 ,   47763.  ,  353250.  ,   36202.5 ,   77787.  ,\n",
              "       1260000.  ,  253800.  ,  103050.  ,  185481.  ,  240300.  ,\n",
              "        418500.  ,  187879.5 ,   71550.  ,  131994.  ,  481500.  ,\n",
              "         75883.5 ,  108382.5 ,   90652.5 , 3150000.  ,  165600.  ,\n",
              "         57600.  ,  130779.  ,  104476.5 ,   86850.  ,  118800.  ,\n",
              "        155700.  ,   79020.  ,   73867.5 ,  125100.  ,   95319.  ,\n",
              "        394128.  ,  436500.  ,  243900.  ,  121468.5 ,  149400.  ,\n",
              "        101556.  ,  439650.  ,  571500.  ,   97200.  ,  100350.  ,\n",
              "        222682.5 ,  403200.  ,  137790.  ,  104323.5 ,  148180.5 ,\n",
              "        459000.  ,   99801.  ,  160200.  ,  201150.  ,  463500.  ,\n",
              "         60300.  ,  158287.5 ,  409567.5 ,  143739.  ,  132214.5 ,\n",
              "         74803.5 ,  138150.  ,  162450.  ,  428850.  ,  100678.5 ,\n",
              "        271651.5 ,   34650.  ,   67905.  ,  109350.  ,  310122.  ,\n",
              "        161244.  ])"
            ]
          },
          "metadata": {},
          "execution_count": 51
        }
      ]
    },
    {
      "cell_type": "code",
      "source": [
        "df['AMT_INCOME_TOTAL'].value_counts()"
      ],
      "metadata": {
        "id": "fxeElMsvsXrK",
        "colab": {
          "base_uri": "https://localhost:8080/"
        },
        "outputId": "15fa2db9-a3be-4c16-ae03-3514ff8f137e"
      },
      "execution_count": 52,
      "outputs": [
        {
          "output_type": "execute_result",
          "data": {
            "text/plain": [
              "135000.0    5562\n",
              "112500.0    4851\n",
              "157500.0    4435\n",
              "180000.0    4205\n",
              "225000.0    3764\n",
              "            ... \n",
              "114219.0       1\n",
              "84717.0        1\n",
              "91935.0        1\n",
              "146475.0       1\n",
              "161244.0       1\n",
              "Name: AMT_INCOME_TOTAL, Length: 606, dtype: int64"
            ]
          },
          "metadata": {},
          "execution_count": 52
        }
      ]
    },
    {
      "cell_type": "code",
      "source": [
        "#For Female who dont have children and have income total lower 100000\n",
        "df.sort_values(\"CODE_GENDER\", inplace = True)\n",
        "mul_filter1 = df[\"CODE_GENDER\"]==\"F\" \n",
        "mul_filter2 = df[\"AMT_INCOME_TOTAL\"]<100000\n",
        "mul_filter3 = df[\"CNT_CHILDREN\"]=0\n",
        "df.where(mul_filter1 & mul_filter2 & mul_filter3, inplace = True)"
      ],
      "metadata": {
        "id": "J6dROATZsfVX"
      },
      "execution_count": 53,
      "outputs": []
    },
    {
      "cell_type": "code",
      "source": [
        "#For Female who dont have children and have income total above 100000\n",
        "df.sort_values(\"CODE_GENDER\", inplace = True)\n",
        "mul_filter1 = df[\"CODE_GENDER\"]==\"F\" \n",
        "mul_filter4 = df[\"AMT_INCOME_TOTAL\"]>100000\n",
        "mul_filter3 = df[\"CNT_CHILDREN\"]=0\n",
        "df.where(mul_filter1 & mul_filter4 & mul_filter3, inplace=True)"
      ],
      "metadata": {
        "id": "GK493RkYLERM"
      },
      "execution_count": 69,
      "outputs": []
    },
    {
      "cell_type": "code",
      "source": [
        "#For Female who have children and have income total lower 100000\n",
        "df.sort_values(\"CODE_GENDER\", inplace = True)\n",
        "mul_filter1 = df[\"CODE_GENDER\"]==\"F\" \n",
        "mul_filter4 = df[\"AMT_INCOME_TOTAL\"]<100000\n",
        "mul_filter5= df[\"CNT_CHILDREN\"]>0\n",
        "df.where(mul_filter1 & mul_filter4 & mul_filter5, inplace = True)"
      ],
      "metadata": {
        "id": "QyT5T8BzMS7c"
      },
      "execution_count": 70,
      "outputs": []
    },
    {
      "cell_type": "code",
      "source": [
        "#For Female who have children and have income total above 100000\n",
        "df.sort_values(\"CODE_GENDER\", inplace = True)\n",
        "mul_filter1 = df[\"CODE_GENDER\"]==\"F\" \n",
        "mul_filter6 = df[\"AMT_INCOME_TOTAL\"]>100000\n",
        "mul_filter5 = df[\"CNT_CHILDREN\"]>0\n",
        "df.where(mul_filter1 & mul_filter6 & mul_filter3, inplace = True)\n",
        "mul_filter1.count()"
      ],
      "metadata": {
        "colab": {
          "base_uri": "https://localhost:8080/"
        },
        "id": "GtnymE_LNEvG",
        "outputId": "505ab6ce-20bb-4410-ebf2-4367503107dc"
      },
      "execution_count": 79,
      "outputs": [
        {
          "output_type": "execute_result",
          "data": {
            "text/plain": [
              "48744"
            ]
          },
          "metadata": {},
          "execution_count": 79
        }
      ]
    },
    {
      "cell_type": "code",
      "source": [
        "#For male who dont have children and have income total lower 100000\n",
        "df.sort_values(\"CODE_GENDER\", inplace = True)\n",
        "mul_filter7 = df[\"CODE_GENDER\"]==\"M\" \n",
        "mul_filter4 = df[\"AMT_INCOME_TOTAL\"]<100000\n",
        "mul_filter3 = df[\"CNT_CHILDREN\"]=0\n",
        "df.where(mul_filter7 & mul_filter4 & mul_filter3, inplace = True)\n"
      ],
      "metadata": {
        "id": "rnlZKCZONVZX"
      },
      "execution_count": 73,
      "outputs": []
    },
    {
      "cell_type": "code",
      "source": [
        "#For male who dont have children and have income total above 100000\n",
        "df.sort_values(\"CODE_GENDER\", inplace = True)\n",
        "mul_filter7 = df[\"CODE_GENDER\"]==\"M\" \n",
        "mul_filter6 = df[\"AMT_INCOME_TOTAL\"]>100000\n",
        "mul_filter3 = df[\"CNT_CHILDREN\"]=0\n",
        "df.where(mul_filter7 & mul_filter6 & mul_filter3, inplace = True)\n"
      ],
      "metadata": {
        "id": "Iby9ywxbPLFD"
      },
      "execution_count": 78,
      "outputs": []
    },
    {
      "cell_type": "code",
      "source": [
        "#For male who have children and have income total lower 100000\n",
        "df.sort_values(\"CODE_GENDER\", inplace = True)\n",
        "mul_filter7 = df[\"CODE_GENDER\"]==\"M\" \n",
        "mul_filter4 = df[\"AMT_INCOME_TOTAL\"]<100000\n",
        "mul_filter5 = df[\"CNT_CHILDREN\"]>0\n",
        "df.where(mul_filter7 & mul_filter4 & mul_filter5, inplace = True)\n"
      ],
      "metadata": {
        "id": "U6lPtLVwPW3c"
      },
      "execution_count": 76,
      "outputs": []
    },
    {
      "cell_type": "code",
      "source": [
        "#For male who have children and have income total above 100000\n",
        "df.sort_values(\"CODE_GENDER\", inplace = True)\n",
        "mul_filter7 = df[\"CODE_GENDER\"]==\"M\" \n",
        "mul_filter6 = df[\"AMT_INCOME_TOTAL\"]>100000\n",
        "mul_filter5 = df[\"CNT_CHILDREN\"]>0\n",
        "df.where(mul_filter7 & mul_filter4 & mul_filter5, inplace = True)"
      ],
      "metadata": {
        "id": "I5dq1BdyQpyL"
      },
      "execution_count": 77,
      "outputs": []
    }
  ]
}